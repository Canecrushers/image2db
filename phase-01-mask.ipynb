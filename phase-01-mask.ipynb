{
 "cells": [
  {
   "cell_type": "code",
   "execution_count": 36,
   "metadata": {},
   "outputs": [],
   "source": [
    "from PIL import Image, ImageDraw\n",
    "import glob\n",
    "import os"
   ]
  },
  {
   "cell_type": "code",
   "execution_count": 4,
   "metadata": {},
   "outputs": [],
   "source": [
    "# The initial release contains only one tile, so lets hardcode its location\n",
    "# here.  When you have more tiles, you can update this\n",
    "TILE_X = 7680\n",
    "TILE_Y = 10240"
   ]
  },
  {
   "cell_type": "code",
   "execution_count": 6,
   "metadata": {},
   "outputs": [],
   "source": [
    "# The expected value of a Pixel in a mask file indicating that the pixel is\n",
    "# within that region.  Tuple value, (Red, Green, Blue, Alpha)\n",
    "IS_IN_MASK_PIXEL_VALUE = (0, 0, 0, 255)"
   ]
  },
  {
   "cell_type": "code",
   "execution_count": 7,
   "metadata": {},
   "outputs": [],
   "source": [
    "# Tile width / height in pixels\n",
    "TILE_WIDTH_PX = 512\n",
    "TILE_HEIGHT_PX = 512"
   ]
  },
  {
   "cell_type": "code",
   "execution_count": 21,
   "metadata": {},
   "outputs": [
    {
     "name": "stdout",
     "output_type": "stream",
     "text": [
      "mask_path: E:\\work\\canecrushers\\phase-01\\data\\sentinel-2a-tile-7680x-10240y\\masks\\sugarcane-region-mask.png\n"
     ]
    }
   ],
   "source": [
    "# Get the physical path to the PNG image containing the mask file\n",
    "def get_mask_path(tile_x, tile_y, mask_type):\n",
    "    path = 'E:\\\\work\\\\canecrushers\\\\phase-01\\\\'\n",
    "    path += f\"data\\\\sentinel-2a-tile-{tile_x}x-{tile_y}y\\\\masks\\\\{mask_type}-mask.png\"\n",
    "    #path += f\"./data/sentinel-2a-tile-{tile_x}x-{tile_y}y/masks/{mask_type}-mask.png\"\n",
    "    #path = f'E:\\work\\canecrushers\\phase-01\\data\\sentinel-2a-tile-7680x-10240y\\timeseries\\'\n",
    "    return path\n",
    "\n",
    "mask_path = get_mask_path(TILE_X, TILE_Y, 'sugarcane-region')\n",
    "print('mask_path:',mask_path)\n",
    "assert os.path.isfile(mask_path)"
   ]
  },
  {
   "cell_type": "code",
   "execution_count": 23,
   "metadata": {},
   "outputs": [
    {
     "data": {
      "text/plain": [
       "<PixelAccess at 0x240169c0390>"
      ]
     },
     "execution_count": 23,
     "metadata": {},
     "output_type": "execute_result"
    }
   ],
   "source": [
    "# Open an image file and get all the pixels\n",
    "def get_tile_pixels(tile_path):\n",
    "    img = Image.open(tile_path)\n",
    "    pixels = img.load()\n",
    "    return pixels\n",
    "\n",
    "tile_pixels = get_tile_pixels(mask_path)\n",
    "tile_pixels"
   ]
  },
  {
   "cell_type": "code",
   "execution_count": 26,
   "metadata": {},
   "outputs": [
    {
     "data": {
      "text/plain": [
       "<PixelAccess at 0x240168d9e50>"
      ]
     },
     "execution_count": 26,
     "metadata": {},
     "output_type": "execute_result"
    }
   ],
   "source": [
    "# Get the pixels for an image file\n",
    "def get_mask_pixels(tile_x, tile_y, mask_type):\n",
    "    mask_path = get_mask_path(tile_x, tile_y, mask_type)\n",
    "    return get_tile_pixels(mask_path)\n",
    "\n",
    "mask_pixels = get_mask_pixels(TILE_X, TILE_Y, 'sugarcane-region')\n",
    "mask_pixels"
   ]
  },
  {
   "cell_type": "code",
   "execution_count": 29,
   "metadata": {},
   "outputs": [
    {
     "name": "stdout",
     "output_type": "stream",
     "text": [
      "False\n",
      "True\n"
     ]
    }
   ],
   "source": [
    "def is_in_mask(mask_pixels, pixel_x, pixel_y):\n",
    "    if mask_pixels[pixel_y, pixel_x] == IS_IN_MASK_PIXEL_VALUE:\n",
    "        return True\n",
    "    else:\n",
    "        return False\n",
    "\n",
    "print(is_in_mask(mask_pixels, 256, 256))\n",
    "print(is_in_mask(mask_pixels, 128, 128))"
   ]
  },
  {
   "cell_type": "code",
   "execution_count": 32,
   "metadata": {},
   "outputs": [
    {
     "name": "stdout",
     "output_type": "stream",
     "text": [
      "X XXXXXXXXXXXXX  XXXXXXXXX                       X\n",
      " XXXXXXXXXXXXXXXX XXXXXXXXX                       \n",
      "XXXXXXXXXXXXXXXXXXXXXXXXXXX                       \n",
      "X    XXXXXXXXXXXXXXXXXXXXXX                      X\n",
      "XXXX  XXXXXXXXXXXXXXXXXXXXX      X               X\n",
      " XXX X XXXXXXXXXXXXXXXXXXXXX    XX               X\n",
      "XXXXXXXXXXXXXXXXXXXXXXXXXXXXXX XXXX               \n",
      "XXXXXXXXXXXXXXXXXXXXXXXXXXXXXX XXXXXX             \n",
      "XXXXXX XXXXX XXXXXXXXXXXXXXXXXXXXX   XX           \n",
      " XXXXXX  XX    XXXXXXXXXXXXXXXXXXX X  XXXX X      \n",
      "  XXXXXX  XXXX   XXXXXXX   XXXXXXXXXXXXXXXXXX     \n",
      "      XXX  XXXXXXXXX       XXXXXXXXXXXXXX         \n",
      "   XXXX XX  XXXXXXXXX      XXXXXXXXXXXXXX         \n",
      "       XXXXX XXXXXXXX      XXXXXXXXXXXXXX        X\n",
      "XX      XXXXXXXXXXXXX  XX  XXXXXXXXXXXXXX    X    \n",
      "XXXXXXXXX  XXXXXXXXXXXXXXXX XXXXXXXXXXXXXX  XX    \n",
      "XXXXXXXXXXX      XXXXXXXXXXXXXXXXXXXXXXXXXXXXXXX  \n",
      " XXXXXXXXXXX      XXXXXXXXXXXXXXXXXXXXXXXXXXX XXX \n",
      "XXXXXXXXXXXXX    XXXXXXXXXXXXXXXXXXXXXXXXXXXXXX XX\n",
      "XXXXXXXXXXXXX X XXXXXXXXXXXXXXXXXXXXXXXXXXXXXXXX X\n",
      " XXXXXXXXXXXX X XXXXXXXXXXXXXXXXXXXXXXXXXXXXXXXXX \n",
      " XXXXXXXXXXXXX      XXXXXXXXXXXXXXXXXXXXXXXXXXXXXX\n",
      "XXXXXXXX      XXXXX  XXXXXXXXXXXXXXXXXXXXXXXXXXXXX\n",
      "    XXX XXXXXXXXXXX  XXXXXXXXXXXXXXXXXXXXXXXXXXXXX\n",
      " XX  X XXXXXXXXXXXX    XXXXXXXXXXXXXXXXXXXXXXXXXXX\n",
      "XXXXX XXXXXXXXXXXXXXXXXX   XXXXXXXXXXXXXXXXXXXXXXX\n",
      " XX   XXXXXXXXXXXXXXXXXXX  XXXXXXXXXXXXXXXXXXXXXXX\n",
      "  X  XXXXXXXXXXXXXXXXXXXX XXXXXXXXXXXXXXXXXXXXXXXX\n",
      " XXXX XXXXXXXXXXXXXXXXXX XXXXXXXXXXXXXXXXXXXXXXXXX\n",
      " XXXXXXXXXXXXXXXXXXXXXXXX XX    XXXXXXXXXXXX X XXX\n",
      " XXXXXX XXXXXXXXXXXXXXXXXX X    XXXX XX XXXX    XX\n",
      " XXXXX XXXXXXXXXXXXXXXXXXX  XXXX       XX        X\n",
      " XXX XXXXXXXXXXXXXXXXXXXXXXXXXXX XXXX XXX XXXXXXX \n",
      "XXXXX XXXXX  XXXXXXXXXXXXXXXXXXXXXXX   XXXXXXXXXXX\n",
      " XXXX XXXXXX   XXXXXXXXXXXXXXXXXXXXXX   XXXXXXXXXX\n",
      " XXX  X   XXXXXXXXXXXXXXXXXXXXXXXXXXXX   XXXXXXXXX\n",
      " XX XXXXXXXXXXXXXX XXXXXXXXXXXXXXXXXXX   XXXXXXXX \n",
      "XXXX XXXXXXX XXXXXX   XXXXXXXXXXXXXXXXX  XXXXXX   \n",
      " XX X XXXXXX XXXXXX    XXX   XXXXXXXXXX  XXXXXX   \n",
      " X  XXXXXXXXXXXXXXXX          XXXXXXXXXX XXXXX    \n",
      "     X XXXXXXXXXXXXXXX       XXXXXXXXXXX  XXXX    \n",
      "XXX XXX    XXXXXXXXXXX        XXXXXXXXXXX  XXXX   \n",
      " X XXXXXXXX   XXXXXXXXX       XXXXXXXXXXX   XXXXX \n",
      " X XXXXXXXXX     XXXXXXX      XXXXXXXX XX     XXXX\n",
      "X  XXXXXXXXX     X  XXXXXX    XXXXXXXX  X  XXX XXX\n",
      "  XXXXXXXXXX      XX XXXX      XXXXXX     XXXX   X\n",
      "  XXXXXXXXXX        XXXXX      XXXXXX     XXX     \n",
      "  XXXXXXXX      XXX  X XX      XXXXX      XXX     \n",
      "XX XXXX         XXXX  X X      XXXXXX     XXX    X\n",
      "XXXXXXX       XXXXXX   X X     XXXXXX     XXX    X\n"
     ]
    }
   ],
   "source": [
    "def print_ascii_mask(tile_x, tile_y, mask_type):\n",
    "    mask_pixels = get_mask_pixels(tile_x, tile_y, mask_type)\n",
    "\n",
    "    # We don't really want to display ASCII art that is 512 characters long as it will be\n",
    "    # too long to show in a terminal, so lets scale it\n",
    "    scale_factor = 10\n",
    "\n",
    "    width_in_chars = int(TILE_WIDTH_PX / scale_factor)\n",
    "    height_in_chars = int(TILE_HEIGHT_PX / scale_factor)\n",
    "\n",
    "    for x_char in range(0, width_in_chars - 1):\n",
    "        for y_char in range(0, height_in_chars - 1):\n",
    "            # Convert the character index back to actual pixels\n",
    "            pixel_x = x_char * scale_factor\n",
    "            pixel_y = y_char * scale_factor\n",
    "\n",
    "            # is the pixel in my mask?\n",
    "            in_mask = is_in_mask(mask_pixels, pixel_x, pixel_y)\n",
    "            if in_mask:\n",
    "                print(\"X\", end=\"\")\n",
    "            else:\n",
    "                print(\" \", end=\"\")\n",
    "\n",
    "        # Print a newline at the end of each row\n",
    "        print(\"\\n\", end=\"\")\n",
    "\n",
    "print_ascii_mask(TILE_X, TILE_Y, 'sugarcane-region')\n"
   ]
  },
  {
   "cell_type": "code",
   "execution_count": 40,
   "metadata": {},
   "outputs": [
    {
     "name": "stdout",
     "output_type": "stream",
     "text": [
      "E:\\work\\canecrushers\\phase-01\\data\\sentinel-2a-tile-7680x-10240y\\timeseries/7680-10240-TCI-2*.png\n"
     ]
    },
    {
     "data": {
      "text/plain": [
       "['E:\\\\work\\\\canecrushers\\\\phase-01\\\\data\\\\sentinel-2a-tile-7680x-10240y\\\\timeseries\\\\7680-10240-TCI-2016-12-22.png',\n",
       " 'E:\\\\work\\\\canecrushers\\\\phase-01\\\\data\\\\sentinel-2a-tile-7680x-10240y\\\\timeseries\\\\7680-10240-TCI-2017-01-01.png',\n",
       " 'E:\\\\work\\\\canecrushers\\\\phase-01\\\\data\\\\sentinel-2a-tile-7680x-10240y\\\\timeseries\\\\7680-10240-TCI-2017-01-11.png',\n",
       " 'E:\\\\work\\\\canecrushers\\\\phase-01\\\\data\\\\sentinel-2a-tile-7680x-10240y\\\\timeseries\\\\7680-10240-TCI-2017-02-10.png',\n",
       " 'E:\\\\work\\\\canecrushers\\\\phase-01\\\\data\\\\sentinel-2a-tile-7680x-10240y\\\\timeseries\\\\7680-10240-TCI-2017-02-20.png',\n",
       " 'E:\\\\work\\\\canecrushers\\\\phase-01\\\\data\\\\sentinel-2a-tile-7680x-10240y\\\\timeseries\\\\7680-10240-TCI-2017-03-02.png',\n",
       " 'E:\\\\work\\\\canecrushers\\\\phase-01\\\\data\\\\sentinel-2a-tile-7680x-10240y\\\\timeseries\\\\7680-10240-TCI-2017-03-12.png',\n",
       " 'E:\\\\work\\\\canecrushers\\\\phase-01\\\\data\\\\sentinel-2a-tile-7680x-10240y\\\\timeseries\\\\7680-10240-TCI-2017-04-01.png',\n",
       " 'E:\\\\work\\\\canecrushers\\\\phase-01\\\\data\\\\sentinel-2a-tile-7680x-10240y\\\\timeseries\\\\7680-10240-TCI-2017-04-11.png',\n",
       " 'E:\\\\work\\\\canecrushers\\\\phase-01\\\\data\\\\sentinel-2a-tile-7680x-10240y\\\\timeseries\\\\7680-10240-TCI-2017-05-01.png',\n",
       " 'E:\\\\work\\\\canecrushers\\\\phase-01\\\\data\\\\sentinel-2a-tile-7680x-10240y\\\\timeseries\\\\7680-10240-TCI-2017-05-11.png',\n",
       " 'E:\\\\work\\\\canecrushers\\\\phase-01\\\\data\\\\sentinel-2a-tile-7680x-10240y\\\\timeseries\\\\7680-10240-TCI-2017-05-21.png',\n",
       " 'E:\\\\work\\\\canecrushers\\\\phase-01\\\\data\\\\sentinel-2a-tile-7680x-10240y\\\\timeseries\\\\7680-10240-TCI-2017-05-31.png',\n",
       " 'E:\\\\work\\\\canecrushers\\\\phase-01\\\\data\\\\sentinel-2a-tile-7680x-10240y\\\\timeseries\\\\7680-10240-TCI-2017-06-20.png',\n",
       " 'E:\\\\work\\\\canecrushers\\\\phase-01\\\\data\\\\sentinel-2a-tile-7680x-10240y\\\\timeseries\\\\7680-10240-TCI-2017-07-10.png',\n",
       " 'E:\\\\work\\\\canecrushers\\\\phase-01\\\\data\\\\sentinel-2a-tile-7680x-10240y\\\\timeseries\\\\7680-10240-TCI-2017-07-20.png',\n",
       " 'E:\\\\work\\\\canecrushers\\\\phase-01\\\\data\\\\sentinel-2a-tile-7680x-10240y\\\\timeseries\\\\7680-10240-TCI-2017-07-30.png',\n",
       " 'E:\\\\work\\\\canecrushers\\\\phase-01\\\\data\\\\sentinel-2a-tile-7680x-10240y\\\\timeseries\\\\7680-10240-TCI-2017-08-09.png',\n",
       " 'E:\\\\work\\\\canecrushers\\\\phase-01\\\\data\\\\sentinel-2a-tile-7680x-10240y\\\\timeseries\\\\7680-10240-TCI-2017-08-19.png',\n",
       " 'E:\\\\work\\\\canecrushers\\\\phase-01\\\\data\\\\sentinel-2a-tile-7680x-10240y\\\\timeseries\\\\7680-10240-TCI-2017-09-08.png',\n",
       " 'E:\\\\work\\\\canecrushers\\\\phase-01\\\\data\\\\sentinel-2a-tile-7680x-10240y\\\\timeseries\\\\7680-10240-TCI-2017-09-18.png',\n",
       " 'E:\\\\work\\\\canecrushers\\\\phase-01\\\\data\\\\sentinel-2a-tile-7680x-10240y\\\\timeseries\\\\7680-10240-TCI-2017-09-28.png',\n",
       " 'E:\\\\work\\\\canecrushers\\\\phase-01\\\\data\\\\sentinel-2a-tile-7680x-10240y\\\\timeseries\\\\7680-10240-TCI-2017-10-08.png',\n",
       " 'E:\\\\work\\\\canecrushers\\\\phase-01\\\\data\\\\sentinel-2a-tile-7680x-10240y\\\\timeseries\\\\7680-10240-TCI-2017-10-28.png',\n",
       " 'E:\\\\work\\\\canecrushers\\\\phase-01\\\\data\\\\sentinel-2a-tile-7680x-10240y\\\\timeseries\\\\7680-10240-TCI-2017-11-07.png',\n",
       " 'E:\\\\work\\\\canecrushers\\\\phase-01\\\\data\\\\sentinel-2a-tile-7680x-10240y\\\\timeseries\\\\7680-10240-TCI-2017-11-17.png',\n",
       " 'E:\\\\work\\\\canecrushers\\\\phase-01\\\\data\\\\sentinel-2a-tile-7680x-10240y\\\\timeseries\\\\7680-10240-TCI-2017-11-27.png',\n",
       " 'E:\\\\work\\\\canecrushers\\\\phase-01\\\\data\\\\sentinel-2a-tile-7680x-10240y\\\\timeseries\\\\7680-10240-TCI-2017-12-07.png',\n",
       " 'E:\\\\work\\\\canecrushers\\\\phase-01\\\\data\\\\sentinel-2a-tile-7680x-10240y\\\\timeseries\\\\7680-10240-TCI-2017-12-17.png',\n",
       " 'E:\\\\work\\\\canecrushers\\\\phase-01\\\\data\\\\sentinel-2a-tile-7680x-10240y\\\\timeseries\\\\7680-10240-TCI-2017-12-27.png',\n",
       " 'E:\\\\work\\\\canecrushers\\\\phase-01\\\\data\\\\sentinel-2a-tile-7680x-10240y\\\\timeseries\\\\7680-10240-TCI-2018-01-06.png',\n",
       " 'E:\\\\work\\\\canecrushers\\\\phase-01\\\\data\\\\sentinel-2a-tile-7680x-10240y\\\\timeseries\\\\7680-10240-TCI-2018-01-26.png',\n",
       " 'E:\\\\work\\\\canecrushers\\\\phase-01\\\\data\\\\sentinel-2a-tile-7680x-10240y\\\\timeseries\\\\7680-10240-TCI-2018-02-15.png',\n",
       " 'E:\\\\work\\\\canecrushers\\\\phase-01\\\\data\\\\sentinel-2a-tile-7680x-10240y\\\\timeseries\\\\7680-10240-TCI-2018-03-17.png',\n",
       " 'E:\\\\work\\\\canecrushers\\\\phase-01\\\\data\\\\sentinel-2a-tile-7680x-10240y\\\\timeseries\\\\7680-10240-TCI-2018-04-16.png',\n",
       " 'E:\\\\work\\\\canecrushers\\\\phase-01\\\\data\\\\sentinel-2a-tile-7680x-10240y\\\\timeseries\\\\7680-10240-TCI-2018-04-26.png',\n",
       " 'E:\\\\work\\\\canecrushers\\\\phase-01\\\\data\\\\sentinel-2a-tile-7680x-10240y\\\\timeseries\\\\7680-10240-TCI-2018-05-06.png',\n",
       " 'E:\\\\work\\\\canecrushers\\\\phase-01\\\\data\\\\sentinel-2a-tile-7680x-10240y\\\\timeseries\\\\7680-10240-TCI-2018-05-26.png',\n",
       " 'E:\\\\work\\\\canecrushers\\\\phase-01\\\\data\\\\sentinel-2a-tile-7680x-10240y\\\\timeseries\\\\7680-10240-TCI-2018-06-05.png',\n",
       " 'E:\\\\work\\\\canecrushers\\\\phase-01\\\\data\\\\sentinel-2a-tile-7680x-10240y\\\\timeseries\\\\7680-10240-TCI-2018-06-15.png',\n",
       " 'E:\\\\work\\\\canecrushers\\\\phase-01\\\\data\\\\sentinel-2a-tile-7680x-10240y\\\\timeseries\\\\7680-10240-TCI-2018-06-25.png',\n",
       " 'E:\\\\work\\\\canecrushers\\\\phase-01\\\\data\\\\sentinel-2a-tile-7680x-10240y\\\\timeseries\\\\7680-10240-TCI-2018-07-05.png',\n",
       " 'E:\\\\work\\\\canecrushers\\\\phase-01\\\\data\\\\sentinel-2a-tile-7680x-10240y\\\\timeseries\\\\7680-10240-TCI-2018-07-15.png',\n",
       " 'E:\\\\work\\\\canecrushers\\\\phase-01\\\\data\\\\sentinel-2a-tile-7680x-10240y\\\\timeseries\\\\7680-10240-TCI-2018-07-25.png',\n",
       " 'E:\\\\work\\\\canecrushers\\\\phase-01\\\\data\\\\sentinel-2a-tile-7680x-10240y\\\\timeseries\\\\7680-10240-TCI-2018-08-04.png',\n",
       " 'E:\\\\work\\\\canecrushers\\\\phase-01\\\\data\\\\sentinel-2a-tile-7680x-10240y\\\\timeseries\\\\7680-10240-TCI-2018-08-14.png',\n",
       " 'E:\\\\work\\\\canecrushers\\\\phase-01\\\\data\\\\sentinel-2a-tile-7680x-10240y\\\\timeseries\\\\7680-10240-TCI-2018-08-24.png',\n",
       " 'E:\\\\work\\\\canecrushers\\\\phase-01\\\\data\\\\sentinel-2a-tile-7680x-10240y\\\\timeseries\\\\7680-10240-TCI-2018-09-03.png',\n",
       " 'E:\\\\work\\\\canecrushers\\\\phase-01\\\\data\\\\sentinel-2a-tile-7680x-10240y\\\\timeseries\\\\7680-10240-TCI-2018-09-13.png',\n",
       " 'E:\\\\work\\\\canecrushers\\\\phase-01\\\\data\\\\sentinel-2a-tile-7680x-10240y\\\\timeseries\\\\7680-10240-TCI-2018-10-03.png',\n",
       " 'E:\\\\work\\\\canecrushers\\\\phase-01\\\\data\\\\sentinel-2a-tile-7680x-10240y\\\\timeseries\\\\7680-10240-TCI-2018-10-23.png',\n",
       " 'E:\\\\work\\\\canecrushers\\\\phase-01\\\\data\\\\sentinel-2a-tile-7680x-10240y\\\\timeseries\\\\7680-10240-TCI-2018-11-02.png',\n",
       " 'E:\\\\work\\\\canecrushers\\\\phase-01\\\\data\\\\sentinel-2a-tile-7680x-10240y\\\\timeseries\\\\7680-10240-TCI-2018-11-12.png',\n",
       " 'E:\\\\work\\\\canecrushers\\\\phase-01\\\\data\\\\sentinel-2a-tile-7680x-10240y\\\\timeseries\\\\7680-10240-TCI-2018-11-22.png',\n",
       " 'E:\\\\work\\\\canecrushers\\\\phase-01\\\\data\\\\sentinel-2a-tile-7680x-10240y\\\\timeseries\\\\7680-10240-TCI-2018-12-02.png',\n",
       " 'E:\\\\work\\\\canecrushers\\\\phase-01\\\\data\\\\sentinel-2a-tile-7680x-10240y\\\\timeseries\\\\7680-10240-TCI-2019-01-01.png',\n",
       " 'E:\\\\work\\\\canecrushers\\\\phase-01\\\\data\\\\sentinel-2a-tile-7680x-10240y\\\\timeseries\\\\7680-10240-TCI-2019-01-21.png',\n",
       " 'E:\\\\work\\\\canecrushers\\\\phase-01\\\\data\\\\sentinel-2a-tile-7680x-10240y\\\\timeseries\\\\7680-10240-TCI-2019-02-20.png',\n",
       " 'E:\\\\work\\\\canecrushers\\\\phase-01\\\\data\\\\sentinel-2a-tile-7680x-10240y\\\\timeseries\\\\7680-10240-TCI-2019-03-02.png',\n",
       " 'E:\\\\work\\\\canecrushers\\\\phase-01\\\\data\\\\sentinel-2a-tile-7680x-10240y\\\\timeseries\\\\7680-10240-TCI-2019-03-12.png',\n",
       " 'E:\\\\work\\\\canecrushers\\\\phase-01\\\\data\\\\sentinel-2a-tile-7680x-10240y\\\\timeseries\\\\7680-10240-TCI-2019-04-11.png',\n",
       " 'E:\\\\work\\\\canecrushers\\\\phase-01\\\\data\\\\sentinel-2a-tile-7680x-10240y\\\\timeseries\\\\7680-10240-TCI-2019-04-21.png',\n",
       " 'E:\\\\work\\\\canecrushers\\\\phase-01\\\\data\\\\sentinel-2a-tile-7680x-10240y\\\\timeseries\\\\7680-10240-TCI-2019-05-01.png',\n",
       " 'E:\\\\work\\\\canecrushers\\\\phase-01\\\\data\\\\sentinel-2a-tile-7680x-10240y\\\\timeseries\\\\7680-10240-TCI-2019-05-11.png',\n",
       " 'E:\\\\work\\\\canecrushers\\\\phase-01\\\\data\\\\sentinel-2a-tile-7680x-10240y\\\\timeseries\\\\7680-10240-TCI-2019-05-21.png',\n",
       " 'E:\\\\work\\\\canecrushers\\\\phase-01\\\\data\\\\sentinel-2a-tile-7680x-10240y\\\\timeseries\\\\7680-10240-TCI-2019-06-10.png',\n",
       " 'E:\\\\work\\\\canecrushers\\\\phase-01\\\\data\\\\sentinel-2a-tile-7680x-10240y\\\\timeseries\\\\7680-10240-TCI-2019-06-20.png',\n",
       " 'E:\\\\work\\\\canecrushers\\\\phase-01\\\\data\\\\sentinel-2a-tile-7680x-10240y\\\\timeseries\\\\7680-10240-TCI-2019-06-30.png',\n",
       " 'E:\\\\work\\\\canecrushers\\\\phase-01\\\\data\\\\sentinel-2a-tile-7680x-10240y\\\\timeseries\\\\7680-10240-TCI-2019-07-20.png',\n",
       " 'E:\\\\work\\\\canecrushers\\\\phase-01\\\\data\\\\sentinel-2a-tile-7680x-10240y\\\\timeseries\\\\7680-10240-TCI-2019-07-30.png',\n",
       " 'E:\\\\work\\\\canecrushers\\\\phase-01\\\\data\\\\sentinel-2a-tile-7680x-10240y\\\\timeseries\\\\7680-10240-TCI-2019-08-09.png']"
      ]
     },
     "execution_count": 40,
     "metadata": {},
     "output_type": "execute_result"
    }
   ],
   "source": [
    "# Get a list of all the image tiles for a specific x,y coordinate\n",
    "# for the specified band\n",
    "def get_timeseries_image_paths(tile_x, tile_y, band):\n",
    "    path = 'E:\\\\work\\\\canecrushers\\\\phase-01\\\\'\n",
    "    path += f\"data\\\\sentinel-2a-tile-{tile_x}x-{tile_y}y\\\\timeseries/{tile_x}-{tile_y}-{band}*.png\"\n",
    "    print(path)\n",
    "    images = glob.glob(path)\n",
    "    return images\n",
    "\n",
    "get_timeseries_image_paths(TILE_X, TILE_Y, 'TCI-2')"
   ]
  },
  {
   "cell_type": "code",
   "execution_count": 38,
   "metadata": {},
   "outputs": [],
   "source": [
    "def print_ascii_rag(tile_x, tile_y, mask_type):\n",
    "    mask_pixels = get_mask_pixels(tile_x, tile_y, mask_type)\n",
    "\n",
    "    # We don't really want to display ASCII art that is 512 characters long as it will be\n",
    "    # too long to show in a terminal, so lets scale it\n",
    "    scale_factor = 10\n",
    "\n",
    "    width_in_chars = int(TILE_WIDTH_PX / scale_factor)\n",
    "    height_in_chars = int(TILE_HEIGHT_PX / scale_factor)\n",
    "\n",
    "    for x_char in range(0, width_in_chars - 1):\n",
    "        for y_char in range(0, height_in_chars - 1):\n",
    "            # Convert the character index back to actual pixels\n",
    "            pixel_x = x_char * scale_factor\n",
    "            pixel_y = y_char * scale_factor\n",
    "\n",
    "            # is the pixel in my mask?\n",
    "            in_mask = is_in_mask(mask_pixels, pixel_x, pixel_y)\n",
    "            if in_mask:\n",
    "                print(\"X\", end=\"\")\n",
    "            else:\n",
    "                print(\" \", end=\"\")\n",
    "\n",
    "        # Print a newline at the end of each row\n",
    "        print(\"\\n\", end=\"\")\n",
    "\n",
    "print_ascii_rag(TILE_X, TILE_Y, 'sugarcane-region')\n"
   ]
  },
  {
   "cell_type": "code",
   "execution_count": null,
   "metadata": {},
   "outputs": [],
   "source": [
    "def testpil():\n",
    "    path = 'E:\\\\work\\\\canecrushers\\\\phase-01\\\\data\\\\sentinel-2a-tile-7680x-10240y\\\\timeseries\\\\7680-10240-TCI-2019-08-09.png'\n",
    "    "
   ]
  }
 ],
 "metadata": {
  "kernelspec": {
   "display_name": "Python 3",
   "language": "python",
   "name": "python3"
  },
  "language_info": {
   "codemirror_mode": {
    "name": "ipython",
    "version": 3
   },
   "file_extension": ".py",
   "mimetype": "text/x-python",
   "name": "python",
   "nbconvert_exporter": "python",
   "pygments_lexer": "ipython3",
   "version": "3.7.3"
  }
 },
 "nbformat": 4,
 "nbformat_minor": 2
}
