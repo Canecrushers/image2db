{
 "cells": [
  {
   "cell_type": "code",
   "execution_count": 1,
   "metadata": {},
   "outputs": [],
   "source": [
    "import geopandas as gpd\n",
    "from geopandas.tools import sjoin\n",
    "from shapely.geometry import Point, Polygon\n",
    "import contextily as ctx\n",
    "import shapely.speedups\n",
    "shapely.speedups.enable()\n",
    "import matplotlib.pyplot as plt\n",
    "import pandas as pd\n",
    "import pyarrow as pa\n",
    "import os"
   ]
  },
  {
   "cell_type": "code",
   "execution_count": 2,
   "metadata": {},
   "outputs": [],
   "source": [
    "# The initial release contains only one tile, so lets hardcode its location\n",
    "# here.  When you have more tiles, you can update this\n",
    "TILE_X = 7680\n",
    "TILE_Y = 10240"
   ]
  },
  {
   "cell_type": "code",
   "execution_count": 3,
   "metadata": {},
   "outputs": [
    {
     "data": {
      "text/plain": [
       "LOTPLAN              object\n",
       "ADDRESS              object\n",
       "LOCAL_AUTHORITY    category\n",
       "STATE              category\n",
       "ADDRESS_PID          object\n",
       "geometry             object\n",
       "dtype: object"
      ]
     },
     "execution_count": 3,
     "metadata": {},
     "output_type": "execute_result"
    }
   ],
   "source": [
    "address_paths = ['E:\\work\\canecrushers\\lots\\Property_address_Queensland_PindiPindi.formatted.geo.json',\n",
    "                 'E:\\work\\canecrushers\\lots\\Property_address_Queensland_Yalboroo.formatted.geo.json']\n",
    "\n",
    "address_gpd = gpd.GeoDataFrame(\n",
    "    pd.concat([\n",
    "        gpd.read_file(path)\n",
    "            for path in address_paths\n",
    "    ], sort=False))\n",
    "\n",
    "address_gpd['ADDRESS_PID'].fillna(address_gpd['ADDRESS_PI'], inplace = True)\n",
    "address_gpd['LOCAL_AUTHORITY'].fillna(address_gpd['LOCAL_AUTH'], inplace = True)\n",
    "\n",
    "address_gpd = address_gpd[\n",
    "                ['LOTPLAN','ADDRESS','LOCAL_AUTHORITY','STATE','ADDRESS_PID','geometry']\n",
    "            ].astype(\n",
    "                {'LOCAL_AUTHORITY':'category','STATE':'category'}\n",
    "            )\n",
    "\n",
    "address_gpd = gpd.GeoDataFrame(address_gpd)\n",
    "address_gpd.dtypes"
   ]
  },
  {
   "cell_type": "code",
   "execution_count": 4,
   "metadata": {},
   "outputs": [
    {
     "data": {
      "text/html": [
       "<div>\n",
       "<style scoped>\n",
       "    .dataframe tbody tr th:only-of-type {\n",
       "        vertical-align: middle;\n",
       "    }\n",
       "\n",
       "    .dataframe tbody tr th {\n",
       "        vertical-align: top;\n",
       "    }\n",
       "\n",
       "    .dataframe thead th {\n",
       "        text-align: right;\n",
       "    }\n",
       "</style>\n",
       "<table border=\"1\" class=\"dataframe\">\n",
       "  <thead>\n",
       "    <tr style=\"text-align: right;\">\n",
       "      <th></th>\n",
       "      <th>LOTPLAN</th>\n",
       "      <th>ADDRESS</th>\n",
       "      <th>LOCAL_AUTHORITY</th>\n",
       "      <th>STATE</th>\n",
       "      <th>ADDRESS_PID</th>\n",
       "      <th>geometry</th>\n",
       "    </tr>\n",
       "  </thead>\n",
       "  <tbody>\n",
       "    <tr>\n",
       "      <th>0</th>\n",
       "      <td>207SP277861</td>\n",
       "      <td>779 Old Bowen Road Pindi Pindi QLD</td>\n",
       "      <td>Mackay Regional</td>\n",
       "      <td>QLD</td>\n",
       "      <td>2764150</td>\n",
       "      <td>POINT (148.74353708 -20.84308611937188)</td>\n",
       "    </tr>\n",
       "    <tr>\n",
       "      <th>1</th>\n",
       "      <td>6CI2576</td>\n",
       "      <td>102 Pindi Pindi Blackrock Creek Road Pindi Pin...</td>\n",
       "      <td>Mackay Regional</td>\n",
       "      <td>QLD</td>\n",
       "      <td>2317254</td>\n",
       "      <td>POINT (148.7405187200001 -20.86669204937126)</td>\n",
       "    </tr>\n",
       "    <tr>\n",
       "      <th>2</th>\n",
       "      <td>11SP173263</td>\n",
       "      <td>23 Russells Road Pindi Pindi QLD</td>\n",
       "      <td>Mackay Regional</td>\n",
       "      <td>QLD</td>\n",
       "      <td>2020864</td>\n",
       "      <td>POINT (148.73170143 -20.86633068937128)</td>\n",
       "    </tr>\n",
       "    <tr>\n",
       "      <th>3</th>\n",
       "      <td>3C124139</td>\n",
       "      <td>81 Old Pindi Bog Road Pindi Pindi QLD</td>\n",
       "      <td>Mackay Regional</td>\n",
       "      <td>QLD</td>\n",
       "      <td>204158</td>\n",
       "      <td>POINT (148.7151944300001 -20.86936320937123)</td>\n",
       "    </tr>\n",
       "    <tr>\n",
       "      <th>4</th>\n",
       "      <td>8SP185803</td>\n",
       "      <td>Pindi Pindi Blackrock Creek Road Pindi Pindi QLD</td>\n",
       "      <td>Mackay Regional</td>\n",
       "      <td>QLD</td>\n",
       "      <td>2078657</td>\n",
       "      <td>POINT (148.7413371700001 -20.84620359937182)</td>\n",
       "    </tr>\n",
       "  </tbody>\n",
       "</table>\n",
       "</div>"
      ],
      "text/plain": [
       "       LOTPLAN                                            ADDRESS  \\\n",
       "0  207SP277861                 779 Old Bowen Road Pindi Pindi QLD   \n",
       "1      6CI2576  102 Pindi Pindi Blackrock Creek Road Pindi Pin...   \n",
       "2   11SP173263                   23 Russells Road Pindi Pindi QLD   \n",
       "3     3C124139              81 Old Pindi Bog Road Pindi Pindi QLD   \n",
       "4    8SP185803   Pindi Pindi Blackrock Creek Road Pindi Pindi QLD   \n",
       "\n",
       "   LOCAL_AUTHORITY STATE ADDRESS_PID  \\\n",
       "0  Mackay Regional   QLD     2764150   \n",
       "1  Mackay Regional   QLD     2317254   \n",
       "2  Mackay Regional   QLD     2020864   \n",
       "3  Mackay Regional   QLD      204158   \n",
       "4  Mackay Regional   QLD     2078657   \n",
       "\n",
       "                                       geometry  \n",
       "0       POINT (148.74353708 -20.84308611937188)  \n",
       "1  POINT (148.7405187200001 -20.86669204937126)  \n",
       "2       POINT (148.73170143 -20.86633068937128)  \n",
       "3  POINT (148.7151944300001 -20.86936320937123)  \n",
       "4  POINT (148.7413371700001 -20.84620359937182)  "
      ]
     },
     "execution_count": 4,
     "metadata": {},
     "output_type": "execute_result"
    }
   ],
   "source": [
    "address_gpd.head(5)"
   ]
  },
  {
   "cell_type": "code",
   "execution_count": 5,
   "metadata": {},
   "outputs": [
    {
     "data": {
      "image/png": "[encoded data removed]",
      "text/plain": [
       "<Figure size 504x504 with 1 Axes>"
      ]
     },
     "metadata": {
      "needs_background": "light"
     },
     "output_type": "display_data"
    }
   ],
   "source": [
    "ax = address_gpd.plot(figsize=(7,7), alpha=0.5, edgecolor='k')\n",
    "plt.tight_layout()"
   ]
  },
  {
   "cell_type": "code",
   "execution_count": 6,
   "metadata": {},
   "outputs": [
    {
     "data": {
      "text/plain": [
       "LOTPLAN         object\n",
       "SEGPAR           int32\n",
       "SURV_IND      category\n",
       "TENURE          object\n",
       "PRC              int16\n",
       "LAC              int16\n",
       "FEAT_NAME       object\n",
       "LOC              int16\n",
       "LOCALITY        object\n",
       "PARCEL_TYP    category\n",
       "COVER_TYP     category\n",
       "ACC_CODE        object\n",
       "Shape_Area     float16\n",
       "geometry        object\n",
       "dtype: object"
      ]
     },
     "execution_count": 6,
     "metadata": {},
     "output_type": "execute_result"
    }
   ],
   "source": [
    "lots_paths = ['E:\\work\\canecrushers\\lots\\Cadastral_data_QLD_CADASTRE_DCDB_PindiPindi.formatted.geo.json',\n",
    "              'E:\\work\\canecrushers\\lots\\Cadastral_data_QLD_CADASTRE_DCDB_Yalboroo.formatted.geo.json']\n",
    "\n",
    "lots_gpd = gpd.GeoDataFrame(\n",
    "    pd.concat([\n",
    "        gpd.read_file(lots_path).drop(\n",
    "            ['LOT_VOLUME','PAR_NUM','ALIAS_NAME','SEG_NUM','LOT','PLAN','PAR_IND','LOT_VOLUME','PARISH','COUNTY','SHIRE_NAME','O_SHAPE_AR','O_SHAPE_LE','LOT_AREA','EXCL_AREA','CA_AREA_SQ','Shape_Leng']\n",
    "            , axis=1\n",
    "        ).astype({'SEGPAR':'int32','PRC':'int16','LAC':'int16','LOC':'int16','Shape_Area':'float16','SURV_IND':'category','TENURE':'category','FEAT_NAME':'category','LOCALITY':'category','PARCEL_TYP':'category','COVER_TYP':'category','ACC_CODE':'category'})\n",
    "            for lots_path in lots_paths\n",
    "    ]))\n",
    "\n",
    "lots_gpd.dtypes"
   ]
  },
  {
   "cell_type": "code",
   "execution_count": 7,
   "metadata": {},
   "outputs": [
    {
     "data": {
      "text/html": [
       "<div>\n",
       "<style scoped>\n",
       "    .dataframe tbody tr th:only-of-type {\n",
       "        vertical-align: middle;\n",
       "    }\n",
       "\n",
       "    .dataframe tbody tr th {\n",
       "        vertical-align: top;\n",
       "    }\n",
       "\n",
       "    .dataframe thead th {\n",
       "        text-align: right;\n",
       "    }\n",
       "</style>\n",
       "<table border=\"1\" class=\"dataframe\">\n",
       "  <thead>\n",
       "    <tr style=\"text-align: right;\">\n",
       "      <th></th>\n",
       "      <th>LOTPLAN</th>\n",
       "      <th>SEGPAR</th>\n",
       "      <th>SURV_IND</th>\n",
       "      <th>TENURE</th>\n",
       "      <th>PRC</th>\n",
       "      <th>LAC</th>\n",
       "      <th>FEAT_NAME</th>\n",
       "      <th>LOC</th>\n",
       "      <th>LOCALITY</th>\n",
       "      <th>PARCEL_TYP</th>\n",
       "      <th>COVER_TYP</th>\n",
       "      <th>ACC_CODE</th>\n",
       "      <th>Shape_Area</th>\n",
       "      <th>geometry</th>\n",
       "    </tr>\n",
       "  </thead>\n",
       "  <tbody>\n",
       "    <tr>\n",
       "      <th>0</th>\n",
       "      <td>1C124121</td>\n",
       "      <td>37385002</td>\n",
       "      <td>Y</td>\n",
       "      <td>Freehold</td>\n",
       "      <td>6000</td>\n",
       "      <td>4770</td>\n",
       "      <td>NaN</td>\n",
       "      <td>4747</td>\n",
       "      <td>Pindi Pindi</td>\n",
       "      <td>Lot Type Parcel</td>\n",
       "      <td>Base</td>\n",
       "      <td>UPGRADE ADJUSTMENT - 5M</td>\n",
       "      <td>0.000019</td>\n",
       "      <td>POLYGON ((148.7046900470001 -20.84646421699995...</td>\n",
       "    </tr>\n",
       "    <tr>\n",
       "      <th>1</th>\n",
       "      <td>87CI2408</td>\n",
       "      <td>37384025</td>\n",
       "      <td>Y</td>\n",
       "      <td>Freehold</td>\n",
       "      <td>6000</td>\n",
       "      <td>4770</td>\n",
       "      <td>NaN</td>\n",
       "      <td>4747</td>\n",
       "      <td>Pindi Pindi</td>\n",
       "      <td>Lot Type Parcel</td>\n",
       "      <td>Base</td>\n",
       "      <td>UPGRADE ADJUSTMENT - 5M</td>\n",
       "      <td>0.000019</td>\n",
       "      <td>POLYGON ((148.6995738820001 -20.87158343899995...</td>\n",
       "    </tr>\n",
       "  </tbody>\n",
       "</table>\n",
       "</div>"
      ],
      "text/plain": [
       "    LOTPLAN    SEGPAR SURV_IND    TENURE   PRC   LAC FEAT_NAME   LOC  \\\n",
       "0  1C124121  37385002        Y  Freehold  6000  4770       NaN  4747   \n",
       "1  87CI2408  37384025        Y  Freehold  6000  4770       NaN  4747   \n",
       "\n",
       "      LOCALITY       PARCEL_TYP COVER_TYP                 ACC_CODE  \\\n",
       "0  Pindi Pindi  Lot Type Parcel      Base  UPGRADE ADJUSTMENT - 5M   \n",
       "1  Pindi Pindi  Lot Type Parcel      Base  UPGRADE ADJUSTMENT - 5M   \n",
       "\n",
       "   Shape_Area                                           geometry  \n",
       "0    0.000019  POLYGON ((148.7046900470001 -20.84646421699995...  \n",
       "1    0.000019  POLYGON ((148.6995738820001 -20.87158343899995...  "
      ]
     },
     "execution_count": 7,
     "metadata": {},
     "output_type": "execute_result"
    }
   ],
   "source": [
    "lots_gpd.head(2)"
   ]
  },
  {
   "cell_type": "code",
   "execution_count": 8,
   "metadata": {},
   "outputs": [
    {
     "data": {
      "image/png": "[encoded data removed]",
      "text/plain": [
       "<Figure size 504x504 with 1 Axes>"
      ]
     },
     "metadata": {
      "needs_background": "light"
     },
     "output_type": "display_data"
    }
   ],
   "source": [
    "fig, ax = plt.subplots(1, figsize=(7,7))\n",
    "ax = lots_gpd.plot(ax=ax, column=\"Shape_Area\")\n",
    "ax = address_gpd.plot(ax=ax, alpha=0.5, edgecolor='k')\n",
    "plt.tight_layout()"
   ]
  },
  {
   "cell_type": "code",
   "execution_count": 9,
   "metadata": {},
   "outputs": [
    {
     "data": {
      "text/plain": [
       "LOTPLAN              object\n",
       "SEGPAR                int32\n",
       "SURV_IND           category\n",
       "TENURE               object\n",
       "PRC                   int16\n",
       "LAC                   int16\n",
       "FEAT_NAME            object\n",
       "LOC                   int16\n",
       "LOCALITY             object\n",
       "PARCEL_TYP         category\n",
       "COVER_TYP          category\n",
       "ACC_CODE             object\n",
       "Shape_Area          float16\n",
       "geometry_x           object\n",
       "ADDRESS              object\n",
       "LOCAL_AUTHORITY    category\n",
       "STATE              category\n",
       "ADDRESS_PID          object\n",
       "geometry_y           object\n",
       "dtype: object"
      ]
     },
     "execution_count": 9,
     "metadata": {},
     "output_type": "execute_result"
    }
   ],
   "source": [
    "lots_addresses_gpd = gpd.GeoDataFrame(\n",
    "    pd.merge(lots_gpd, address_gpd, on='LOTPLAN', how='left')\n",
    ")\n",
    "\n",
    "lots_addresses_gpd.dtypes"
   ]
  },
  {
   "cell_type": "code",
   "execution_count": 11,
   "metadata": {},
   "outputs": [
    {
     "data": {
      "text/html": [
       "<div>\n",
       "<style scoped>\n",
       "    .dataframe tbody tr th:only-of-type {\n",
       "        vertical-align: middle;\n",
       "    }\n",
       "\n",
       "    .dataframe tbody tr th {\n",
       "        vertical-align: top;\n",
       "    }\n",
       "\n",
       "    .dataframe thead th {\n",
       "        text-align: right;\n",
       "    }\n",
       "</style>\n",
       "<table border=\"1\" class=\"dataframe\">\n",
       "  <thead>\n",
       "    <tr style=\"text-align: right;\">\n",
       "      <th></th>\n",
       "      <th>LOTPLAN</th>\n",
       "      <th>geometry_x</th>\n",
       "      <th>geometry_x</th>\n",
       "    </tr>\n",
       "  </thead>\n",
       "  <tbody>\n",
       "    <tr>\n",
       "      <th>0</th>\n",
       "      <td>1C124121</td>\n",
       "      <td>POLYGON ((148.7046900470001 -20.84646421699995...</td>\n",
       "      <td>POLYGON ((148.7046900470001 -20.84646421699995...</td>\n",
       "    </tr>\n",
       "    <tr>\n",
       "      <th>1</th>\n",
       "      <td>87CI2408</td>\n",
       "      <td>POLYGON ((148.6995738820001 -20.87158343899995...</td>\n",
       "      <td>POLYGON ((148.6995738820001 -20.87158343899995...</td>\n",
       "    </tr>\n",
       "    <tr>\n",
       "      <th>2</th>\n",
       "      <td>87CI2408</td>\n",
       "      <td>POLYGON ((148.6975011300001 -20.87256289299995...</td>\n",
       "      <td>POLYGON ((148.6975011300001 -20.87256289299995...</td>\n",
       "    </tr>\n",
       "    <tr>\n",
       "      <th>3</th>\n",
       "      <td>1CI1966</td>\n",
       "      <td>POLYGON ((148.7349510790001 -20.87118031099993...</td>\n",
       "      <td>POLYGON ((148.7349510790001 -20.87118031099993...</td>\n",
       "    </tr>\n",
       "    <tr>\n",
       "      <th>4</th>\n",
       "      <td>1C124121</td>\n",
       "      <td>POLYGON ((148.703798257 -20.84903004799997, 14...</td>\n",
       "      <td>POLYGON ((148.703798257 -20.84903004799997, 14...</td>\n",
       "    </tr>\n",
       "    <tr>\n",
       "      <th>5</th>\n",
       "      <td>None</td>\n",
       "      <td>POLYGON ((148.7501903770001 -20.83587810399996...</td>\n",
       "      <td>POLYGON ((148.7501903770001 -20.83587810399996...</td>\n",
       "    </tr>\n",
       "    <tr>\n",
       "      <th>6</th>\n",
       "      <td>None</td>\n",
       "      <td>POLYGON ((148.745329745 -20.83831632099998, 14...</td>\n",
       "      <td>POLYGON ((148.745329745 -20.83831632099998, 14...</td>\n",
       "    </tr>\n",
       "    <tr>\n",
       "      <th>7</th>\n",
       "      <td>None</td>\n",
       "      <td>POLYGON ((148.708265983 -20.86271133299994, 14...</td>\n",
       "      <td>POLYGON ((148.708265983 -20.86271133299994, 14...</td>\n",
       "    </tr>\n",
       "    <tr>\n",
       "      <th>8</th>\n",
       "      <td>2SP173263</td>\n",
       "      <td>POLYGON ((148.732727788 -20.86516824399996, 14...</td>\n",
       "      <td>POLYGON ((148.732727788 -20.86516824399996, 14...</td>\n",
       "    </tr>\n",
       "    <tr>\n",
       "      <th>9</th>\n",
       "      <td>1RP886048</td>\n",
       "      <td>POLYGON ((148.7481106820001 -20.85854927499997...</td>\n",
       "      <td>POLYGON ((148.7481106820001 -20.85854927499997...</td>\n",
       "    </tr>\n",
       "  </tbody>\n",
       "</table>\n",
       "</div>"
      ],
      "text/plain": [
       "     LOTPLAN                                         geometry_x  \\\n",
       "0   1C124121  POLYGON ((148.7046900470001 -20.84646421699995...   \n",
       "1   87CI2408  POLYGON ((148.6995738820001 -20.87158343899995...   \n",
       "2   87CI2408  POLYGON ((148.6975011300001 -20.87256289299995...   \n",
       "3    1CI1966  POLYGON ((148.7349510790001 -20.87118031099993...   \n",
       "4   1C124121  POLYGON ((148.703798257 -20.84903004799997, 14...   \n",
       "5       None  POLYGON ((148.7501903770001 -20.83587810399996...   \n",
       "6       None  POLYGON ((148.745329745 -20.83831632099998, 14...   \n",
       "7       None  POLYGON ((148.708265983 -20.86271133299994, 14...   \n",
       "8  2SP173263  POLYGON ((148.732727788 -20.86516824399996, 14...   \n",
       "9  1RP886048  POLYGON ((148.7481106820001 -20.85854927499997...   \n",
       "\n",
       "                                          geometry_x  \n",
       "0  POLYGON ((148.7046900470001 -20.84646421699995...  \n",
       "1  POLYGON ((148.6995738820001 -20.87158343899995...  \n",
       "2  POLYGON ((148.6975011300001 -20.87256289299995...  \n",
       "3  POLYGON ((148.7349510790001 -20.87118031099993...  \n",
       "4  POLYGON ((148.703798257 -20.84903004799997, 14...  \n",
       "5  POLYGON ((148.7501903770001 -20.83587810399996...  \n",
       "6  POLYGON ((148.745329745 -20.83831632099998, 14...  \n",
       "7  POLYGON ((148.708265983 -20.86271133299994, 14...  \n",
       "8  POLYGON ((148.732727788 -20.86516824399996, 14...  \n",
       "9  POLYGON ((148.7481106820001 -20.85854927499997...  "
      ]
     },
     "execution_count": 11,
     "metadata": {},
     "output_type": "execute_result"
    }
   ],
   "source": [
    "lots_addresses_gpd[['LOTPLAN','geometry_x','geometry_x']].head(10)"
   ]
  },
  {
   "cell_type": "code",
   "execution_count": 12,
   "metadata": {},
   "outputs": [
    {
     "data": {
      "text/plain": [
       "<matplotlib.axes._subplots.AxesSubplot at 0x2c26f947fd0>"
      ]
     },
     "execution_count": 12,
     "metadata": {},
     "output_type": "execute_result"
    },
    {
     "data": {
      "image/png": "[encoded data removed]",
      "text/plain": [
       "<Figure size 432x288 with 1 Axes>"
      ]
     },
     "metadata": {
      "needs_background": "light"
     },
     "output_type": "display_data"
    }
   ],
   "source": [
    "lots_gpd[lots_gpd.LOTPLAN=='1C124121'].plot()"
   ]
  },
  {
   "cell_type": "code",
   "execution_count": 13,
   "metadata": {},
   "outputs": [
    {
     "data": {
      "image/svg+xml": [
       "<svg xmlns=\"http://www.w3.org/2000/svg\" xmlns:xlink=\"http://www.w3.org/1999/xlink\" width=\"100.0\" height=\"100.0\" viewBox=\"148.6965287676401 -20.849295402359964 0.008475174719990264 0.005243432720035912\" preserveAspectRatio=\"xMinYMin meet\"><g transform=\"matrix(1,0,0,-1,0,-41.69334737199989)\"><path fill-rule=\"evenodd\" fill=\"#66cc99\" stroke=\"#555555\" stroke-width=\"0.00016950349439980527\" opacity=\"0.6\" d=\"M 148.7046900470001,-20.846464216999948 L 148.70454706300006,-20.846797659999936 L 148.70361057700006,-20.848981506999962 L 148.70110524400002,-20.848338767999962 L 148.6998691340001,-20.847594707999974 L 148.69968636300007,-20.84797492599995 L 148.6968426630001,-20.84724535 L 148.69695586000012,-20.84713450099997 L 148.6972626820001,-20.846920035999972 L 148.69745560700005,-20.846728093999957 L 148.697838143,-20.84659849899998 L 148.69829575000006,-20.846292674999972 L 148.6986703870001,-20.846145793999938 L 148.6987007560001,-20.845973759999936 L 148.69868529600012,-20.84587334799994 L 148.69862425300005,-20.845773174999977 L 148.69824741000002,-20.845580607999977 L 148.69814053200002,-20.845537855999964 L 148.6980281100001,-20.845458305999955 L 148.6977593680001,-20.84529446099998 L 148.6976917610001,-20.845053992999965 L 148.69783824700005,-20.844857476999948 L 148.69820991200004,-20.844658463999963 L 148.69836192600008,-20.844468451999944 L 148.69842264800002,-20.84436586499993 L 148.7046900470001,-20.846464216999948 z\" /></g></svg>"
      ],
      "text/plain": [
       "<shapely.geometry.polygon.Polygon at 0x2c26e505518>"
      ]
     },
     "execution_count": 13,
     "metadata": {},
     "output_type": "execute_result"
    }
   ],
   "source": [
    "lots_gpd[lots_gpd.LOTPLAN=='1C124121'].geometry[0]"
   ]
  },
  {
   "cell_type": "code",
   "execution_count": 14,
   "metadata": {},
   "outputs": [
    {
     "data": {
      "image/svg+xml": [
       "<svg xmlns=\"http://www.w3.org/2000/svg\" xmlns:xlink=\"http://www.w3.org/1999/xlink\" width=\"100.0\" height=\"100.0\" viewBox=\"148.70323126844002 -20.856480217559955 0.01530869112008304 0.010184525120010335\" preserveAspectRatio=\"xMinYMin meet\"><g transform=\"matrix(1,0,0,-1,0,-41.7027759099999)\"><path fill-rule=\"evenodd\" fill=\"#66cc99\" stroke=\"#555555\" stroke-width=\"0.0003061738224016608\" opacity=\"0.6\" d=\"M 148.70379825700002,-20.849030047999975 L 148.7047276500001,-20.846862680999948 L 148.71695772600003,-20.85097293599995 L 148.71783879400004,-20.851912974999948 L 148.7179729710001,-20.851916536999966 L 148.71747165200009,-20.855913228999952 L 148.715430297,-20.853492468999946 L 148.7148793560001,-20.852995007999937 L 148.7142419820001,-20.852547645999948 L 148.71337454800005,-20.852128311999934 L 148.71291876600003,-20.851977303999945 L 148.70748371600007,-20.850271187999965 L 148.70755657600012,-20.85005082899994 L 148.70594178900012,-20.84958028799997 L 148.70379825700002,-20.849030047999975 z\" /></g></svg>"
      ],
      "text/plain": [
       "<shapely.geometry.polygon.Polygon at 0x2c26e507320>"
      ]
     },
     "execution_count": 14,
     "metadata": {},
     "output_type": "execute_result"
    }
   ],
   "source": [
    "lots_gpd[lots_gpd.LOTPLAN=='1C124121'].geometry[4]"
   ]
  },
  {
   "cell_type": "code",
   "execution_count": 15,
   "metadata": {},
   "outputs": [],
   "source": [
    "(top, left, bottom, right) = (-20.812410418698178, 148.69443975983441, -20.858263265061037,148.743620498264306)\n",
    "\n",
    "def px_latlon(top, left, bottom, right, px_width, px_hight):\n",
    "    \"\"\" return array of arrays \n",
    "        one array for each pixel (10m X 10 m), containing \n",
    "        an array for each spectrum value for the pixel\n",
    "    \"\"\"\n",
    "    \n",
    "    columns = ['x', 'y', 'lat', 'lon', 'geometry']\n",
    "\n",
    "    data = []\n",
    "    for x in range(0, px_width):\n",
    "        for y in range(0, px_hight):\n",
    "            lat = left + (right - left) * (x + 0.5) / px_width\n",
    "            lon = top + (bottom - top) * (y + 0.5) / px_hight\n",
    "            geometry = Point(lat,lon)\n",
    "\n",
    "            data.append([x, y, lat, lon, geometry])\n",
    "    return gpd.GeoDataFrame(columns=columns, data=data) "
   ]
  },
  {
   "cell_type": "code",
   "execution_count": 16,
   "metadata": {},
   "outputs": [
    {
     "data": {
      "text/html": [
       "<div>\n",
       "<style scoped>\n",
       "    .dataframe tbody tr th:only-of-type {\n",
       "        vertical-align: middle;\n",
       "    }\n",
       "\n",
       "    .dataframe tbody tr th {\n",
       "        vertical-align: top;\n",
       "    }\n",
       "\n",
       "    .dataframe thead th {\n",
       "        text-align: right;\n",
       "    }\n",
       "</style>\n",
       "<table border=\"1\" class=\"dataframe\">\n",
       "  <thead>\n",
       "    <tr style=\"text-align: right;\">\n",
       "      <th></th>\n",
       "      <th>x</th>\n",
       "      <th>y</th>\n",
       "      <th>lat</th>\n",
       "      <th>lon</th>\n",
       "      <th>geometry</th>\n",
       "    </tr>\n",
       "  </thead>\n",
       "  <tbody>\n",
       "    <tr>\n",
       "      <th>0</th>\n",
       "      <td>0</td>\n",
       "      <td>0</td>\n",
       "      <td>148.694488</td>\n",
       "      <td>-20.812455</td>\n",
       "      <td>POINT (148.6944877878993 -20.81245519686846)</td>\n",
       "    </tr>\n",
       "    <tr>\n",
       "      <th>1</th>\n",
       "      <td>0</td>\n",
       "      <td>1</td>\n",
       "      <td>148.694488</td>\n",
       "      <td>-20.812545</td>\n",
       "      <td>POINT (148.6944877878993 -20.81254475320901)</td>\n",
       "    </tr>\n",
       "  </tbody>\n",
       "</table>\n",
       "</div>"
      ],
      "text/plain": [
       "   x  y         lat        lon                                      geometry\n",
       "0  0  0  148.694488 -20.812455  POINT (148.6944877878993 -20.81245519686846)\n",
       "1  0  1  148.694488 -20.812545  POINT (148.6944877878993 -20.81254475320901)"
      ]
     },
     "execution_count": 16,
     "metadata": {},
     "output_type": "execute_result"
    }
   ],
   "source": [
    "pxlatlon = px_latlon(top, left, bottom, right, 512, 512)\n",
    "pxlatlon.head(2)"
   ]
  },
  {
   "cell_type": "code",
   "execution_count": 17,
   "metadata": {},
   "outputs": [],
   "source": [
    "pointInPolys = sjoin(pxlatlon, lots_gpd, op='within', how='inner')"
   ]
  },
  {
   "cell_type": "code",
   "execution_count": 18,
   "metadata": {},
   "outputs": [
    {
     "data": {
      "text/html": [
       "<div>\n",
       "<style scoped>\n",
       "    .dataframe tbody tr th:only-of-type {\n",
       "        vertical-align: middle;\n",
       "    }\n",
       "\n",
       "    .dataframe tbody tr th {\n",
       "        vertical-align: top;\n",
       "    }\n",
       "\n",
       "    .dataframe thead th {\n",
       "        text-align: right;\n",
       "    }\n",
       "</style>\n",
       "<table border=\"1\" class=\"dataframe\">\n",
       "  <thead>\n",
       "    <tr style=\"text-align: right;\">\n",
       "      <th></th>\n",
       "      <th>x</th>\n",
       "      <th>y</th>\n",
       "      <th>lat</th>\n",
       "      <th>lon</th>\n",
       "      <th>geometry</th>\n",
       "      <th>index_right</th>\n",
       "      <th>LOTPLAN</th>\n",
       "      <th>SEGPAR</th>\n",
       "      <th>SURV_IND</th>\n",
       "      <th>TENURE</th>\n",
       "      <th>PRC</th>\n",
       "      <th>LAC</th>\n",
       "      <th>FEAT_NAME</th>\n",
       "      <th>LOC</th>\n",
       "      <th>LOCALITY</th>\n",
       "      <th>PARCEL_TYP</th>\n",
       "      <th>COVER_TYP</th>\n",
       "      <th>ACC_CODE</th>\n",
       "      <th>Shape_Area</th>\n",
       "    </tr>\n",
       "  </thead>\n",
       "  <tbody>\n",
       "    <tr>\n",
       "      <th>0</th>\n",
       "      <td>0</td>\n",
       "      <td>0</td>\n",
       "      <td>148.694488</td>\n",
       "      <td>-20.812455</td>\n",
       "      <td>POINT (148.6944877878993 -20.81245519686846)</td>\n",
       "      <td>198</td>\n",
       "      <td>2SP115941</td>\n",
       "      <td>61571023</td>\n",
       "      <td>Y</td>\n",
       "      <td>Freehold</td>\n",
       "      <td>6000</td>\n",
       "      <td>4770</td>\n",
       "      <td>NaN</td>\n",
       "      <td>3063</td>\n",
       "      <td>Yalboroo</td>\n",
       "      <td>Lot Type Parcel</td>\n",
       "      <td>Base</td>\n",
       "      <td>UPGRADE ADJUSTMENT - 5M</td>\n",
       "      <td>0.000008</td>\n",
       "    </tr>\n",
       "    <tr>\n",
       "      <th>512</th>\n",
       "      <td>1</td>\n",
       "      <td>0</td>\n",
       "      <td>148.694584</td>\n",
       "      <td>-20.812455</td>\n",
       "      <td>POINT (148.694583844029 -20.81245519686846)</td>\n",
       "      <td>198</td>\n",
       "      <td>2SP115941</td>\n",
       "      <td>61571023</td>\n",
       "      <td>Y</td>\n",
       "      <td>Freehold</td>\n",
       "      <td>6000</td>\n",
       "      <td>4770</td>\n",
       "      <td>NaN</td>\n",
       "      <td>3063</td>\n",
       "      <td>Yalboroo</td>\n",
       "      <td>Lot Type Parcel</td>\n",
       "      <td>Base</td>\n",
       "      <td>UPGRADE ADJUSTMENT - 5M</td>\n",
       "      <td>0.000008</td>\n",
       "    </tr>\n",
       "  </tbody>\n",
       "</table>\n",
       "</div>"
      ],
      "text/plain": [
       "     x  y         lat        lon  \\\n",
       "0    0  0  148.694488 -20.812455   \n",
       "512  1  0  148.694584 -20.812455   \n",
       "\n",
       "                                         geometry  index_right    LOTPLAN  \\\n",
       "0    POINT (148.6944877878993 -20.81245519686846)          198  2SP115941   \n",
       "512   POINT (148.694583844029 -20.81245519686846)          198  2SP115941   \n",
       "\n",
       "       SEGPAR SURV_IND    TENURE   PRC   LAC FEAT_NAME   LOC  LOCALITY  \\\n",
       "0    61571023        Y  Freehold  6000  4770       NaN  3063  Yalboroo   \n",
       "512  61571023        Y  Freehold  6000  4770       NaN  3063  Yalboroo   \n",
       "\n",
       "          PARCEL_TYP COVER_TYP                 ACC_CODE  Shape_Area  \n",
       "0    Lot Type Parcel      Base  UPGRADE ADJUSTMENT - 5M    0.000008  \n",
       "512  Lot Type Parcel      Base  UPGRADE ADJUSTMENT - 5M    0.000008  "
      ]
     },
     "execution_count": 18,
     "metadata": {},
     "output_type": "execute_result"
    }
   ],
   "source": [
    "pointInPolys.head(2)"
   ]
  },
  {
   "cell_type": "code",
   "execution_count": 19,
   "metadata": {},
   "outputs": [
    {
     "data": {
      "text/html": [
       "<div>\n",
       "<style scoped>\n",
       "    .dataframe tbody tr th:only-of-type {\n",
       "        vertical-align: middle;\n",
       "    }\n",
       "\n",
       "    .dataframe tbody tr th {\n",
       "        vertical-align: top;\n",
       "    }\n",
       "\n",
       "    .dataframe thead th {\n",
       "        text-align: right;\n",
       "    }\n",
       "</style>\n",
       "<table border=\"1\" class=\"dataframe\">\n",
       "  <thead>\n",
       "    <tr style=\"text-align: right;\">\n",
       "      <th></th>\n",
       "      <th>x</th>\n",
       "      <th>y</th>\n",
       "      <th>lat</th>\n",
       "      <th>lon</th>\n",
       "      <th>LOTPLAN</th>\n",
       "      <th>SEGPAR</th>\n",
       "      <th>SURV_IND</th>\n",
       "      <th>TENURE</th>\n",
       "      <th>PRC</th>\n",
       "      <th>LAC</th>\n",
       "      <th>FEAT_NAME</th>\n",
       "      <th>LOC</th>\n",
       "      <th>LOCALITY</th>\n",
       "      <th>PARCEL_TYP</th>\n",
       "      <th>COVER_TYP</th>\n",
       "      <th>ACC_CODE</th>\n",
       "      <th>Shape_Area</th>\n",
       "      <th>tile_x</th>\n",
       "      <th>tile_y</th>\n",
       "    </tr>\n",
       "  </thead>\n",
       "  <tbody>\n",
       "    <tr>\n",
       "      <th>0</th>\n",
       "      <td>0</td>\n",
       "      <td>0</td>\n",
       "      <td>148.694488</td>\n",
       "      <td>-20.812455</td>\n",
       "      <td>2SP115941</td>\n",
       "      <td>61571023</td>\n",
       "      <td>Y</td>\n",
       "      <td>Freehold</td>\n",
       "      <td>6000</td>\n",
       "      <td>4770</td>\n",
       "      <td>NaN</td>\n",
       "      <td>3063</td>\n",
       "      <td>Yalboroo</td>\n",
       "      <td>Lot Type Parcel</td>\n",
       "      <td>Base</td>\n",
       "      <td>UPGRADE ADJUSTMENT - 5M</td>\n",
       "      <td>0.000008</td>\n",
       "      <td>7680</td>\n",
       "      <td>10240</td>\n",
       "    </tr>\n",
       "    <tr>\n",
       "      <th>512</th>\n",
       "      <td>1</td>\n",
       "      <td>0</td>\n",
       "      <td>148.694584</td>\n",
       "      <td>-20.812455</td>\n",
       "      <td>2SP115941</td>\n",
       "      <td>61571023</td>\n",
       "      <td>Y</td>\n",
       "      <td>Freehold</td>\n",
       "      <td>6000</td>\n",
       "      <td>4770</td>\n",
       "      <td>NaN</td>\n",
       "      <td>3063</td>\n",
       "      <td>Yalboroo</td>\n",
       "      <td>Lot Type Parcel</td>\n",
       "      <td>Base</td>\n",
       "      <td>UPGRADE ADJUSTMENT - 5M</td>\n",
       "      <td>0.000008</td>\n",
       "      <td>7680</td>\n",
       "      <td>10240</td>\n",
       "    </tr>\n",
       "  </tbody>\n",
       "</table>\n",
       "</div>"
      ],
      "text/plain": [
       "     x  y         lat        lon    LOTPLAN    SEGPAR SURV_IND    TENURE  \\\n",
       "0    0  0  148.694488 -20.812455  2SP115941  61571023        Y  Freehold   \n",
       "512  1  0  148.694584 -20.812455  2SP115941  61571023        Y  Freehold   \n",
       "\n",
       "      PRC   LAC FEAT_NAME   LOC  LOCALITY       PARCEL_TYP COVER_TYP  \\\n",
       "0    6000  4770       NaN  3063  Yalboroo  Lot Type Parcel      Base   \n",
       "512  6000  4770       NaN  3063  Yalboroo  Lot Type Parcel      Base   \n",
       "\n",
       "                    ACC_CODE  Shape_Area  tile_x  tile_y  \n",
       "0    UPGRADE ADJUSTMENT - 5M    0.000008    7680   10240  \n",
       "512  UPGRADE ADJUSTMENT - 5M    0.000008    7680   10240  "
      ]
     },
     "execution_count": 19,
     "metadata": {},
     "output_type": "execute_result"
    }
   ],
   "source": [
    "pointInPolys_df = pd.DataFrame(pointInPolys.drop(['geometry', 'index_right',], axis=1))\n",
    "pointInPolys_df['tile_x'] = TILE_X\n",
    "pointInPolys_df['tile_y'] = TILE_Y\n",
    "pointInPolys_df.head(2)"
   ]
  },
  {
   "cell_type": "code",
   "execution_count": null,
   "metadata": {},
   "outputs": [],
   "source": [
    "pointInPolys_df.to_parquet(f'points_{TILE_X}_{TILE_Y}.snappy.parquet')"
   ]
  },
  {
   "cell_type": "code",
   "execution_count": null,
   "metadata": {},
   "outputs": [],
   "source": []
  }
 ],
 "metadata": {
  "kernelspec": {
   "display_name": "Python 3",
   "language": "python",
   "name": "python3"
  },
  "language_info": {
   "codemirror_mode": {
    "name": "ipython",
    "version": 3
   },
   "file_extension": ".py",
   "mimetype": "text/x-python",
   "name": "python",
   "nbconvert_exporter": "python",
   "pygments_lexer": "ipython3",
   "version": "3.7.3"
  }
 },
 "nbformat": 4,
 "nbformat_minor": 4
}
